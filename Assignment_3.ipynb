{
  "nbformat": 4,
  "nbformat_minor": 0,
  "metadata": {
    "colab": {
      "provenance": []
    },
    "kernelspec": {
      "name": "python3",
      "display_name": "Python 3"
    },
    "language_info": {
      "name": "python"
    }
  },
  "cells": [
    {
      "cell_type": "markdown",
      "source": [
        "step 1"
      ],
      "metadata": {
        "id": "IjjEQUuCkOVG"
      }
    },
    {
      "cell_type": "code",
      "source": [
        "pip install findspark\n"
      ],
      "metadata": {
        "colab": {
          "base_uri": "https://localhost:8080/"
        },
        "id": "KNjdU1xDeiI2",
        "outputId": "28f475ca-ae68-4d78-b46c-feb2a1242c1f"
      },
      "execution_count": 29,
      "outputs": [
        {
          "output_type": "stream",
          "name": "stdout",
          "text": [
            "Looking in indexes: https://pypi.org/simple, https://us-python.pkg.dev/colab-wheels/public/simple/\n",
            "Collecting findspark\n",
            "  Downloading findspark-2.0.1-py2.py3-none-any.whl (4.4 kB)\n",
            "Installing collected packages: findspark\n",
            "Successfully installed findspark-2.0.1\n"
          ]
        }
      ]
    },
    {
      "cell_type": "code",
      "source": [
        "import findspark\n",
        "findspark.init()\n",
        "\n",
        "# Set the SPARK_HOME environment variable\n",
        "import os\n",
        "os.environ[\"SPARK_HOME\"] = \"/path/to/your/spark/home/directory\"\n"
      ],
      "metadata": {
        "id": "oEu2uNvremSO"
      },
      "execution_count": 30,
      "outputs": []
    },
    {
      "cell_type": "code",
      "source": [
        "import pandas as pd\n",
        "from pyspark.sql import SparkSession\n",
        "import pyspark\n",
        "from pyspark import SparkContext\n",
        "from pyspark.sql.functions import col\n",
        "from pyspark.sql.functions import desc\n",
        "import string\n",
        "import re\n",
        "from pyspark.sql.functions import split   \n",
        "import pyspark.sql.functions as sqf\n",
        "from pyspark.sql.functions import col, expr, when\n",
        "import findspark\n"
      ],
      "metadata": {
        "id": "YhsYsUeKd1Fh"
      },
      "execution_count": 31,
      "outputs": []
    },
    {
      "cell_type": "code",
      "source": [
        "# Importing \"Amazon_Responded_Oct05.csv\" dataframe\n",
        "Amazon_dataframe = pd.read_csv(\"Amazon_Responded_Oct05.csv\", sep=\",\", error_bad_lines=False)\n",
        "Amazon_dataframe"
      ],
      "metadata": {
        "colab": {
          "base_uri": "https://localhost:8080/",
          "height": 1000
        },
        "id": "zaLxWW5Wd7SL",
        "outputId": "43b036f9-9fdf-4e95-b345-1090f0ce6c8b"
      },
      "execution_count": 26,
      "outputs": [
        {
          "output_type": "stream",
          "name": "stderr",
          "text": [
            "<ipython-input-26-ca85d6543719>:2: FutureWarning: The error_bad_lines argument has been deprecated and will be removed in a future version. Use on_bad_lines in the future.\n",
            "\n",
            "\n",
            "  Amazon_dataframe = pd.read_csv(\"Amazon_Responded_Oct05.csv\", sep=\",\", error_bad_lines=False)\n",
            "b'Skipping line 209619: expected 25 fields, saw 26\\nSkipping line 209620: expected 25 fields, saw 26\\n'\n"
          ]
        },
        {
          "output_type": "execute_result",
          "data": {
            "text/plain": [
              "                      id_str                tweet_created_at user_screen_name  \\\n",
              "0       '793270689780203520'  Tue Nov 01 01:57:25 +0000 2016      SeanEPanjab   \n",
              "1       '793281386912354304'  Tue Nov 01 02:39:55 +0000 2016       AmazonHelp   \n",
              "2       '793501578766319616'  Tue Nov 01 17:14:53 +0000 2016      SeanEPanjab   \n",
              "3       '793501657346682880'  Tue Nov 01 17:15:12 +0000 2016      SeanEPanjab   \n",
              "4       '793502854459879424'  Tue Nov 01 17:19:57 +0000 2016       AmazonHelp   \n",
              "...                      ...                             ...              ...   \n",
              "378127  '892535280460234753'  Tue Aug 01 23:59:28 +0000 2017       AmazonHelp   \n",
              "378128  '892532821893533697'  Tue Aug 01 23:49:41 +0000 2017        nat_says_   \n",
              "378129  '892533275968798720'  Tue Aug 01 23:51:30 +0000 2017       AmazonHelp   \n",
              "378130  '892560509639241728'  Wed Aug 02 01:39:43 +0000 2017        nat_says_   \n",
              "378131  '892565616665743360'  Wed Aug 02 02:00:00 +0000 2017       AmazonHelp   \n",
              "\n",
              "        user_id_str  user_statuses_count  user_favourites_count  \\\n",
              "0       143515471.0                51287                   4079   \n",
              "1        85741735.0              2225450                  11366   \n",
              "2       143515471.0                51287                   4079   \n",
              "3       143515471.0                51287                   4079   \n",
              "4        85741735.0              2225450                  11366   \n",
              "...             ...                  ...                    ...   \n",
              "378127   85741735.0              2215790                  11277   \n",
              "378128   60186579.0                14857                    229   \n",
              "378129   85741735.0              2215792                  11277   \n",
              "378130   60186579.0                14857                    229   \n",
              "378131   85741735.0              2215792                  11277   \n",
              "\n",
              "        user_protected  user_listed_count  user_following  \\\n",
              "0                False                 74           False   \n",
              "1                False                796           False   \n",
              "2                False                 74           False   \n",
              "3                False                 74           False   \n",
              "4                False                796           False   \n",
              "...                ...                ...             ...   \n",
              "378127           False                796           False   \n",
              "378128           False                  5           False   \n",
              "378129           False                796           False   \n",
              "378130           False                  5           False   \n",
              "378131           False                796           False   \n",
              "\n",
              "                                         user_description  ... tweet_language  \\\n",
              "0       Content marketer; Polyglot; Beard aficionado; ...  ...             en   \n",
              "1       We answer Amazon support questions 7 days a we...  ...             en   \n",
              "2       Content marketer; Polyglot; Beard aficionado; ...  ...             en   \n",
              "3       Content marketer; Polyglot; Beard aficionado; ...  ...             en   \n",
              "4       We answer Amazon support questions 7 days a we...  ...             en   \n",
              "...                                                   ...  ...            ...   \n",
              "378127  We answer Amazon support questions 7 days a we...  ...             en   \n",
              "378128  nothing really going on here. just talking to ...  ...             en   \n",
              "378129  We answer Amazon support questions 7 days a we...  ...             en   \n",
              "378130  nothing really going on here. just talking to ...  ...             en   \n",
              "378131  We answer Amazon support questions 7 days a we...  ...             en   \n",
              "\n",
              "                                                    text_  favorite_count  \\\n",
              "0       @AmazonHelp Can you please DM me? A product I ...               0   \n",
              "1       @SeanEPanjab I'm sorry, we're unable to DM you...               0   \n",
              "2       @AmazonHelp It was purchased on https://t.co/g...               0   \n",
              "3       @AmazonHelp I am following you now, if it help...               0   \n",
              "4       @SeanEPanjab Please give us a call/chat so we ...               0   \n",
              "...                                                   ...             ...   \n",
              "378127  @Voltaireon Please send us the details here: h...               1   \n",
              "378128     @AmazonHelp do you guys ship to APO addresses?               0   \n",
              "378129  @nat_says_ We do! You can find more informatio...               0   \n",
              "378130                              @AmazonHelp Thank you               0   \n",
              "378131  @nat_says_ No problem! Let us know if there's ...               0   \n",
              "\n",
              "        favorited in_reply_to_screen_name in_reply_to_status_id_str  \\\n",
              "0           False              AmazonHelp                       NaN   \n",
              "1           False             SeanEPanjab              7.932707e+17   \n",
              "2           False              AmazonHelp              7.932814e+17   \n",
              "3           False              AmazonHelp              7.932814e+17   \n",
              "4           False             SeanEPanjab              7.935016e+17   \n",
              "...           ...                     ...                       ...   \n",
              "378127      False              Voltaireon              8.925318e+17   \n",
              "378128      False              AmazonHelp                       NaN   \n",
              "378129      False               nat_says_              8.925328e+17   \n",
              "378130      False              AmazonHelp              8.925333e+17   \n",
              "378131      False               nat_says_              8.925605e+17   \n",
              "\n",
              "       in_reply_to_user_id_str  retweet_count  retweeted  \\\n",
              "0                   85741735.0              0      False   \n",
              "1                  143515471.0              0      False   \n",
              "2                   85741735.0              0      False   \n",
              "3                   85741735.0              0      False   \n",
              "4                  143515471.0              0      False   \n",
              "...                        ...            ...        ...   \n",
              "378127             278387899.0              0      False   \n",
              "378128              85741735.0              0      False   \n",
              "378129              60186579.0              0      False   \n",
              "378130              85741735.0              0      False   \n",
              "378131              60186579.0              0      False   \n",
              "\n",
              "                                                     text  \n",
              "0                                                     NaN  \n",
              "1                                                     NaN  \n",
              "2       @AmazonHelp It was purchased on https://t.co/g...  \n",
              "3                                                     NaN  \n",
              "4       @SeanEPanjab Please give us a call/chat so we ...  \n",
              "...                                                   ...  \n",
              "378127  @Voltaireon Please send us the details here: h...  \n",
              "378128                                                NaN  \n",
              "378129                                                NaN  \n",
              "378130                                                NaN  \n",
              "378131                                                NaN  \n",
              "\n",
              "[378132 rows x 25 columns]"
            ],
            "text/html": [
              "\n",
              "  <div id=\"df-701b3b0e-92a4-41fa-b88e-32a6450af522\">\n",
              "    <div class=\"colab-df-container\">\n",
              "      <div>\n",
              "<style scoped>\n",
              "    .dataframe tbody tr th:only-of-type {\n",
              "        vertical-align: middle;\n",
              "    }\n",
              "\n",
              "    .dataframe tbody tr th {\n",
              "        vertical-align: top;\n",
              "    }\n",
              "\n",
              "    .dataframe thead th {\n",
              "        text-align: right;\n",
              "    }\n",
              "</style>\n",
              "<table border=\"1\" class=\"dataframe\">\n",
              "  <thead>\n",
              "    <tr style=\"text-align: right;\">\n",
              "      <th></th>\n",
              "      <th>id_str</th>\n",
              "      <th>tweet_created_at</th>\n",
              "      <th>user_screen_name</th>\n",
              "      <th>user_id_str</th>\n",
              "      <th>user_statuses_count</th>\n",
              "      <th>user_favourites_count</th>\n",
              "      <th>user_protected</th>\n",
              "      <th>user_listed_count</th>\n",
              "      <th>user_following</th>\n",
              "      <th>user_description</th>\n",
              "      <th>...</th>\n",
              "      <th>tweet_language</th>\n",
              "      <th>text_</th>\n",
              "      <th>favorite_count</th>\n",
              "      <th>favorited</th>\n",
              "      <th>in_reply_to_screen_name</th>\n",
              "      <th>in_reply_to_status_id_str</th>\n",
              "      <th>in_reply_to_user_id_str</th>\n",
              "      <th>retweet_count</th>\n",
              "      <th>retweeted</th>\n",
              "      <th>text</th>\n",
              "    </tr>\n",
              "  </thead>\n",
              "  <tbody>\n",
              "    <tr>\n",
              "      <th>0</th>\n",
              "      <td>'793270689780203520'</td>\n",
              "      <td>Tue Nov 01 01:57:25 +0000 2016</td>\n",
              "      <td>SeanEPanjab</td>\n",
              "      <td>143515471.0</td>\n",
              "      <td>51287</td>\n",
              "      <td>4079</td>\n",
              "      <td>False</td>\n",
              "      <td>74</td>\n",
              "      <td>False</td>\n",
              "      <td>Content marketer; Polyglot; Beard aficionado; ...</td>\n",
              "      <td>...</td>\n",
              "      <td>en</td>\n",
              "      <td>@AmazonHelp Can you please DM me? A product I ...</td>\n",
              "      <td>0</td>\n",
              "      <td>False</td>\n",
              "      <td>AmazonHelp</td>\n",
              "      <td>NaN</td>\n",
              "      <td>85741735.0</td>\n",
              "      <td>0</td>\n",
              "      <td>False</td>\n",
              "      <td>NaN</td>\n",
              "    </tr>\n",
              "    <tr>\n",
              "      <th>1</th>\n",
              "      <td>'793281386912354304'</td>\n",
              "      <td>Tue Nov 01 02:39:55 +0000 2016</td>\n",
              "      <td>AmazonHelp</td>\n",
              "      <td>85741735.0</td>\n",
              "      <td>2225450</td>\n",
              "      <td>11366</td>\n",
              "      <td>False</td>\n",
              "      <td>796</td>\n",
              "      <td>False</td>\n",
              "      <td>We answer Amazon support questions 7 days a we...</td>\n",
              "      <td>...</td>\n",
              "      <td>en</td>\n",
              "      <td>@SeanEPanjab I'm sorry, we're unable to DM you...</td>\n",
              "      <td>0</td>\n",
              "      <td>False</td>\n",
              "      <td>SeanEPanjab</td>\n",
              "      <td>7.932707e+17</td>\n",
              "      <td>143515471.0</td>\n",
              "      <td>0</td>\n",
              "      <td>False</td>\n",
              "      <td>NaN</td>\n",
              "    </tr>\n",
              "    <tr>\n",
              "      <th>2</th>\n",
              "      <td>'793501578766319616'</td>\n",
              "      <td>Tue Nov 01 17:14:53 +0000 2016</td>\n",
              "      <td>SeanEPanjab</td>\n",
              "      <td>143515471.0</td>\n",
              "      <td>51287</td>\n",
              "      <td>4079</td>\n",
              "      <td>False</td>\n",
              "      <td>74</td>\n",
              "      <td>False</td>\n",
              "      <td>Content marketer; Polyglot; Beard aficionado; ...</td>\n",
              "      <td>...</td>\n",
              "      <td>en</td>\n",
              "      <td>@AmazonHelp It was purchased on https://t.co/g...</td>\n",
              "      <td>0</td>\n",
              "      <td>False</td>\n",
              "      <td>AmazonHelp</td>\n",
              "      <td>7.932814e+17</td>\n",
              "      <td>85741735.0</td>\n",
              "      <td>0</td>\n",
              "      <td>False</td>\n",
              "      <td>@AmazonHelp It was purchased on https://t.co/g...</td>\n",
              "    </tr>\n",
              "    <tr>\n",
              "      <th>3</th>\n",
              "      <td>'793501657346682880'</td>\n",
              "      <td>Tue Nov 01 17:15:12 +0000 2016</td>\n",
              "      <td>SeanEPanjab</td>\n",
              "      <td>143515471.0</td>\n",
              "      <td>51287</td>\n",
              "      <td>4079</td>\n",
              "      <td>False</td>\n",
              "      <td>74</td>\n",
              "      <td>False</td>\n",
              "      <td>Content marketer; Polyglot; Beard aficionado; ...</td>\n",
              "      <td>...</td>\n",
              "      <td>en</td>\n",
              "      <td>@AmazonHelp I am following you now, if it help...</td>\n",
              "      <td>0</td>\n",
              "      <td>False</td>\n",
              "      <td>AmazonHelp</td>\n",
              "      <td>7.932814e+17</td>\n",
              "      <td>85741735.0</td>\n",
              "      <td>0</td>\n",
              "      <td>False</td>\n",
              "      <td>NaN</td>\n",
              "    </tr>\n",
              "    <tr>\n",
              "      <th>4</th>\n",
              "      <td>'793502854459879424'</td>\n",
              "      <td>Tue Nov 01 17:19:57 +0000 2016</td>\n",
              "      <td>AmazonHelp</td>\n",
              "      <td>85741735.0</td>\n",
              "      <td>2225450</td>\n",
              "      <td>11366</td>\n",
              "      <td>False</td>\n",
              "      <td>796</td>\n",
              "      <td>False</td>\n",
              "      <td>We answer Amazon support questions 7 days a we...</td>\n",
              "      <td>...</td>\n",
              "      <td>en</td>\n",
              "      <td>@SeanEPanjab Please give us a call/chat so we ...</td>\n",
              "      <td>0</td>\n",
              "      <td>False</td>\n",
              "      <td>SeanEPanjab</td>\n",
              "      <td>7.935016e+17</td>\n",
              "      <td>143515471.0</td>\n",
              "      <td>0</td>\n",
              "      <td>False</td>\n",
              "      <td>@SeanEPanjab Please give us a call/chat so we ...</td>\n",
              "    </tr>\n",
              "    <tr>\n",
              "      <th>...</th>\n",
              "      <td>...</td>\n",
              "      <td>...</td>\n",
              "      <td>...</td>\n",
              "      <td>...</td>\n",
              "      <td>...</td>\n",
              "      <td>...</td>\n",
              "      <td>...</td>\n",
              "      <td>...</td>\n",
              "      <td>...</td>\n",
              "      <td>...</td>\n",
              "      <td>...</td>\n",
              "      <td>...</td>\n",
              "      <td>...</td>\n",
              "      <td>...</td>\n",
              "      <td>...</td>\n",
              "      <td>...</td>\n",
              "      <td>...</td>\n",
              "      <td>...</td>\n",
              "      <td>...</td>\n",
              "      <td>...</td>\n",
              "      <td>...</td>\n",
              "    </tr>\n",
              "    <tr>\n",
              "      <th>378127</th>\n",
              "      <td>'892535280460234753'</td>\n",
              "      <td>Tue Aug 01 23:59:28 +0000 2017</td>\n",
              "      <td>AmazonHelp</td>\n",
              "      <td>85741735.0</td>\n",
              "      <td>2215790</td>\n",
              "      <td>11277</td>\n",
              "      <td>False</td>\n",
              "      <td>796</td>\n",
              "      <td>False</td>\n",
              "      <td>We answer Amazon support questions 7 days a we...</td>\n",
              "      <td>...</td>\n",
              "      <td>en</td>\n",
              "      <td>@Voltaireon Please send us the details here: h...</td>\n",
              "      <td>1</td>\n",
              "      <td>False</td>\n",
              "      <td>Voltaireon</td>\n",
              "      <td>8.925318e+17</td>\n",
              "      <td>278387899.0</td>\n",
              "      <td>0</td>\n",
              "      <td>False</td>\n",
              "      <td>@Voltaireon Please send us the details here: h...</td>\n",
              "    </tr>\n",
              "    <tr>\n",
              "      <th>378128</th>\n",
              "      <td>'892532821893533697'</td>\n",
              "      <td>Tue Aug 01 23:49:41 +0000 2017</td>\n",
              "      <td>nat_says_</td>\n",
              "      <td>60186579.0</td>\n",
              "      <td>14857</td>\n",
              "      <td>229</td>\n",
              "      <td>False</td>\n",
              "      <td>5</td>\n",
              "      <td>False</td>\n",
              "      <td>nothing really going on here. just talking to ...</td>\n",
              "      <td>...</td>\n",
              "      <td>en</td>\n",
              "      <td>@AmazonHelp do you guys ship to APO addresses?</td>\n",
              "      <td>0</td>\n",
              "      <td>False</td>\n",
              "      <td>AmazonHelp</td>\n",
              "      <td>NaN</td>\n",
              "      <td>85741735.0</td>\n",
              "      <td>0</td>\n",
              "      <td>False</td>\n",
              "      <td>NaN</td>\n",
              "    </tr>\n",
              "    <tr>\n",
              "      <th>378129</th>\n",
              "      <td>'892533275968798720'</td>\n",
              "      <td>Tue Aug 01 23:51:30 +0000 2017</td>\n",
              "      <td>AmazonHelp</td>\n",
              "      <td>85741735.0</td>\n",
              "      <td>2215792</td>\n",
              "      <td>11277</td>\n",
              "      <td>False</td>\n",
              "      <td>796</td>\n",
              "      <td>False</td>\n",
              "      <td>We answer Amazon support questions 7 days a we...</td>\n",
              "      <td>...</td>\n",
              "      <td>en</td>\n",
              "      <td>@nat_says_ We do! You can find more informatio...</td>\n",
              "      <td>0</td>\n",
              "      <td>False</td>\n",
              "      <td>nat_says_</td>\n",
              "      <td>8.925328e+17</td>\n",
              "      <td>60186579.0</td>\n",
              "      <td>0</td>\n",
              "      <td>False</td>\n",
              "      <td>NaN</td>\n",
              "    </tr>\n",
              "    <tr>\n",
              "      <th>378130</th>\n",
              "      <td>'892560509639241728'</td>\n",
              "      <td>Wed Aug 02 01:39:43 +0000 2017</td>\n",
              "      <td>nat_says_</td>\n",
              "      <td>60186579.0</td>\n",
              "      <td>14857</td>\n",
              "      <td>229</td>\n",
              "      <td>False</td>\n",
              "      <td>5</td>\n",
              "      <td>False</td>\n",
              "      <td>nothing really going on here. just talking to ...</td>\n",
              "      <td>...</td>\n",
              "      <td>en</td>\n",
              "      <td>@AmazonHelp Thank you</td>\n",
              "      <td>0</td>\n",
              "      <td>False</td>\n",
              "      <td>AmazonHelp</td>\n",
              "      <td>8.925333e+17</td>\n",
              "      <td>85741735.0</td>\n",
              "      <td>0</td>\n",
              "      <td>False</td>\n",
              "      <td>NaN</td>\n",
              "    </tr>\n",
              "    <tr>\n",
              "      <th>378131</th>\n",
              "      <td>'892565616665743360'</td>\n",
              "      <td>Wed Aug 02 02:00:00 +0000 2017</td>\n",
              "      <td>AmazonHelp</td>\n",
              "      <td>85741735.0</td>\n",
              "      <td>2215792</td>\n",
              "      <td>11277</td>\n",
              "      <td>False</td>\n",
              "      <td>796</td>\n",
              "      <td>False</td>\n",
              "      <td>We answer Amazon support questions 7 days a we...</td>\n",
              "      <td>...</td>\n",
              "      <td>en</td>\n",
              "      <td>@nat_says_ No problem! Let us know if there's ...</td>\n",
              "      <td>0</td>\n",
              "      <td>False</td>\n",
              "      <td>nat_says_</td>\n",
              "      <td>8.925605e+17</td>\n",
              "      <td>60186579.0</td>\n",
              "      <td>0</td>\n",
              "      <td>False</td>\n",
              "      <td>NaN</td>\n",
              "    </tr>\n",
              "  </tbody>\n",
              "</table>\n",
              "<p>378132 rows × 25 columns</p>\n",
              "</div>\n",
              "      <button class=\"colab-df-convert\" onclick=\"convertToInteractive('df-701b3b0e-92a4-41fa-b88e-32a6450af522')\"\n",
              "              title=\"Convert this dataframe to an interactive table.\"\n",
              "              style=\"display:none;\">\n",
              "        \n",
              "  <svg xmlns=\"http://www.w3.org/2000/svg\" height=\"24px\"viewBox=\"0 0 24 24\"\n",
              "       width=\"24px\">\n",
              "    <path d=\"M0 0h24v24H0V0z\" fill=\"none\"/>\n",
              "    <path d=\"M18.56 5.44l.94 2.06.94-2.06 2.06-.94-2.06-.94-.94-2.06-.94 2.06-2.06.94zm-11 1L8.5 8.5l.94-2.06 2.06-.94-2.06-.94L8.5 2.5l-.94 2.06-2.06.94zm10 10l.94 2.06.94-2.06 2.06-.94-2.06-.94-.94-2.06-.94 2.06-2.06.94z\"/><path d=\"M17.41 7.96l-1.37-1.37c-.4-.4-.92-.59-1.43-.59-.52 0-1.04.2-1.43.59L10.3 9.45l-7.72 7.72c-.78.78-.78 2.05 0 2.83L4 21.41c.39.39.9.59 1.41.59.51 0 1.02-.2 1.41-.59l7.78-7.78 2.81-2.81c.8-.78.8-2.07 0-2.86zM5.41 20L4 18.59l7.72-7.72 1.47 1.35L5.41 20z\"/>\n",
              "  </svg>\n",
              "      </button>\n",
              "      \n",
              "  <style>\n",
              "    .colab-df-container {\n",
              "      display:flex;\n",
              "      flex-wrap:wrap;\n",
              "      gap: 12px;\n",
              "    }\n",
              "\n",
              "    .colab-df-convert {\n",
              "      background-color: #E8F0FE;\n",
              "      border: none;\n",
              "      border-radius: 50%;\n",
              "      cursor: pointer;\n",
              "      display: none;\n",
              "      fill: #1967D2;\n",
              "      height: 32px;\n",
              "      padding: 0 0 0 0;\n",
              "      width: 32px;\n",
              "    }\n",
              "\n",
              "    .colab-df-convert:hover {\n",
              "      background-color: #E2EBFA;\n",
              "      box-shadow: 0px 1px 2px rgba(60, 64, 67, 0.3), 0px 1px 3px 1px rgba(60, 64, 67, 0.15);\n",
              "      fill: #174EA6;\n",
              "    }\n",
              "\n",
              "    [theme=dark] .colab-df-convert {\n",
              "      background-color: #3B4455;\n",
              "      fill: #D2E3FC;\n",
              "    }\n",
              "\n",
              "    [theme=dark] .colab-df-convert:hover {\n",
              "      background-color: #434B5C;\n",
              "      box-shadow: 0px 1px 3px 1px rgba(0, 0, 0, 0.15);\n",
              "      filter: drop-shadow(0px 1px 2px rgba(0, 0, 0, 0.3));\n",
              "      fill: #FFFFFF;\n",
              "    }\n",
              "  </style>\n",
              "\n",
              "      <script>\n",
              "        const buttonEl =\n",
              "          document.querySelector('#df-701b3b0e-92a4-41fa-b88e-32a6450af522 button.colab-df-convert');\n",
              "        buttonEl.style.display =\n",
              "          google.colab.kernel.accessAllowed ? 'block' : 'none';\n",
              "\n",
              "        async function convertToInteractive(key) {\n",
              "          const element = document.querySelector('#df-701b3b0e-92a4-41fa-b88e-32a6450af522');\n",
              "          const dataTable =\n",
              "            await google.colab.kernel.invokeFunction('convertToInteractive',\n",
              "                                                     [key], {});\n",
              "          if (!dataTable) return;\n",
              "\n",
              "          const docLinkHtml = 'Like what you see? Visit the ' +\n",
              "            '<a target=\"_blank\" href=https://colab.research.google.com/notebooks/data_table.ipynb>data table notebook</a>'\n",
              "            + ' to learn more about interactive tables.';\n",
              "          element.innerHTML = '';\n",
              "          dataTable['output_type'] = 'display_data';\n",
              "          await google.colab.output.renderOutput(dataTable, element);\n",
              "          const docLink = document.createElement('div');\n",
              "          docLink.innerHTML = docLinkHtml;\n",
              "          element.appendChild(docLink);\n",
              "        }\n",
              "      </script>\n",
              "    </div>\n",
              "  </div>\n",
              "  "
            ]
          },
          "metadata": {},
          "execution_count": 26
        }
      ]
    },
    {
      "cell_type": "code",
      "source": [
        "# Converting amazon dataframe to str\n",
        "amazon_df = Amazon_dataframe.astype(str) \n",
        "\n",
        "# Converting amazon dataframe to spark dataframe\n",
        "findspark.init()\n",
        "spark = SparkSession.builder.master(\"local[*]\").getOrCreate()\n",
        "amazon_spark_df = spark.createDataFrame(amazon_df)\n",
        "amazon_spark_df.show()"
      ],
      "metadata": {
        "colab": {
          "base_uri": "https://localhost:8080/"
        },
        "id": "nwX5fKHEeO9s",
        "outputId": "c04a6e85-bac8-4a5a-9b08-931acb55f1f3"
      },
      "execution_count": 32,
      "outputs": [
        {
          "output_type": "stream",
          "name": "stdout",
          "text": [
            "+--------------------+--------------------+----------------+-----------+-------------------+---------------------+--------------+-----------------+--------------+--------------------+-------------+-------------+--------------------+------------------+--------------------+--------------+--------------------+--------------+---------+-----------------------+-------------------------+-----------------------+-------------+---------+--------------------+\n",
            "|              id_str|    tweet_created_at|user_screen_name|user_id_str|user_statuses_count|user_favourites_count|user_protected|user_listed_count|user_following|    user_description|user_location|user_verified|user_followers_count|user_friends_count|     user_created_at|tweet_language|               text_|favorite_count|favorited|in_reply_to_screen_name|in_reply_to_status_id_str|in_reply_to_user_id_str|retweet_count|retweeted|                text|\n",
            "+--------------------+--------------------+----------------+-----------+-------------------+---------------------+--------------+-----------------+--------------+--------------------+-------------+-------------+--------------------+------------------+--------------------+--------------+--------------------+--------------+---------+-----------------------+-------------------------+-----------------------+-------------+---------+--------------------+\n",
            "|'793270689780203520'|Tue Nov 01 01:57:...|     SeanEPanjab|143515471.0|              51287|                 4079|         False|               74|         False|Content marketer;...|   غریب الوطن|        False|                1503|               850|Thu May 13 17:43:...|            en|@AmazonHelp Can y...|             0|    False|             AmazonHelp|                      nan|             85741735.0|            0|    False|                 nan|\n",
            "|'793281386912354304'|Tue Nov 01 02:39:...|      AmazonHelp| 85741735.0|            2225450|                11366|         False|              796|         False|We answer Amazon ...|          nan|         True|              149569|                53|Wed Oct 28 04:17:...|            en|@SeanEPanjab I'm ...|             0|    False|            SeanEPanjab|     7.932706897802035...|            143515471.0|            0|    False|                 nan|\n",
            "|'793501578766319616'|Tue Nov 01 17:14:...|     SeanEPanjab|143515471.0|              51287|                 4079|         False|               74|         False|Content marketer;...|   غریب الوطن|        False|                1503|               850|Thu May 13 17:43:...|            en|@AmazonHelp It wa...|             0|    False|             AmazonHelp|     7.932813869123543...|             85741735.0|            0|    False|@AmazonHelp It wa...|\n",
            "|'793501657346682880'|Tue Nov 01 17:15:...|     SeanEPanjab|143515471.0|              51287|                 4079|         False|               74|         False|Content marketer;...|   غریب الوطن|        False|                1503|               850|Thu May 13 17:43:...|            en|@AmazonHelp I am ...|             0|    False|             AmazonHelp|     7.932813869123543...|             85741735.0|            0|    False|                 nan|\n",
            "|'793502854459879424'|Tue Nov 01 17:19:...|      AmazonHelp| 85741735.0|            2225450|                11366|         False|              796|         False|We answer Amazon ...|          nan|         True|              149569|                53|Wed Oct 28 04:17:...|            en|@SeanEPanjab Plea...|             0|    False|            SeanEPanjab|     7.935015787663196...|            143515471.0|            0|    False|@SeanEPanjab Plea...|\n",
            "|'793504235400884224'|Tue Nov 01 17:25:...|      AmazonHelp| 85741735.0|            2225450|                11366|         False|              796|         False|We answer Amazon ...|          nan|         True|              149569|                53|Wed Oct 28 04:17:...|            en|@SeanEPanjab With...|             0|    False|            SeanEPanjab|     7.935016573466829...|            143515471.0|            0|    False|                 nan|\n",
            "|'793511847899070465'|Tue Nov 01 17:55:...|     SeanEPanjab|143515471.0|              51287|                 4079|         False|               74|         False|Content marketer;...|   غریب الوطن|        False|                1503|               850|Thu May 13 17:43:...|            en|@AmazonHelp It wa...|             0|    False|             AmazonHelp|     7.935042354008842...|             85741735.0|            0|    False|                 nan|\n",
            "|'793511899279208449'|Tue Nov 01 17:55:...|     SeanEPanjab|143515471.0|              51287|                 4079|         False|               74|         False|Content marketer;...|   غریب الوطن|        False|                1503|               850|Thu May 13 17:43:...|            en|@AmazonHelp if it...|             0|    False|             AmazonHelp|     7.935042354008842...|             85741735.0|            0|    False|                 nan|\n",
            "|'793513446633533440'|Tue Nov 01 18:02:...|      AmazonHelp| 85741735.0|            2225450|                11366|         False|              796|         False|We answer Amazon ...|          nan|         True|              149569|                53|Wed Oct 28 04:17:...|            en|@SeanEPanjab I'm ...|             0|    False|            SeanEPanjab|     7.935118992792084...|            143515471.0|            0|    False|@SeanEPanjab I'm ...|\n",
            "|'793299404975247360'|Tue Nov 01 03:51:...|   aakashwangnoo| 71457972.0|                592|                  471|         False|               11|         False|Don't try to be G...|    New Delhi|        False|                 234|                57|Fri Sep 04 04:55:...|            en|@JeffBezos @amazo...|             0|    False|              JeffBezos|                      nan|             15506669.0|            0|    False|                 nan|\n",
            "|'793301295255945216'|Tue Nov 01 03:59:...|      AmazonHelp| 85741735.0|            2225442|                11366|         False|              796|         False|We answer Amazon ...|          nan|         True|              149568|                53|Wed Oct 28 04:17:...|            en|@aakashwangnoo Hi...|             0|    False|          aakashwangnoo|     7.932994049752474...|             71457972.0|            0|    False|                 nan|\n",
            "|'793407430344310785'|Tue Nov 01 11:00:...|   aakashwangnoo| 71457972.0|                592|                  471|         False|               11|         False|Don't try to be G...|    New Delhi|        False|                 234|                57|Fri Sep 04 04:55:...|            en|@AmazonHelp How m...|             0|    False|             AmazonHelp|     7.933012952559452...|             85741735.0|            0|    False|                 nan|\n",
            "|'793423313674571776'|Tue Nov 01 12:03:...|      AmazonHelp| 85741735.0|            2225442|                11366|         False|              796|         False|We answer Amazon ...|          nan|         True|              149568|                53|Wed Oct 28 04:17:...|            en|@aakashwangnoo Hi...|             0|    False|          aakashwangnoo|     7.934074303443108...|             71457972.0|            0|    False|@aakashwangnoo Hi...|\n",
            "|'793423314333134850'|Tue Nov 01 12:03:...|      AmazonHelp| 85741735.0|            2225442|                11366|         False|              796|         False|We answer Amazon ...|          nan|         True|              149568|                53|Wed Oct 28 04:17:...|            en|@aakashwangnoo Pl...|             0|    False|          aakashwangnoo|     7.934074303443108...|             71457972.0|            0|    False|                 nan|\n",
            "|'793467086869630977'|Tue Nov 01 14:57:...|   aakashwangnoo| 71457972.0|                592|                  471|         False|               11|         False|Don't try to be G...|    New Delhi|        False|                 234|                57|Fri Sep 04 04:55:...|            en|@AmazonHelp @amaz...|             0|    False|             AmazonHelp|     7.934233143331348...|             85741735.0|            0|    False|                 nan|\n",
            "|'793492430666498050'|Tue Nov 01 16:38:...|      AmazonHelp| 85741735.0|            2225442|                11366|         False|              796|         False|We answer Amazon ...|          nan|         True|              149568|                53|Wed Oct 28 04:17:...|            en|@aakashwangnoo Hi...|             0|    False|          aakashwangnoo|     7.93467086869631e+17|             71457972.0|            0|    False|@aakashwangnoo Hi...|\n",
            "|'793535036213501952'|Tue Nov 01 19:27:...|   aakashwangnoo| 71457972.0|                592|                  471|         False|               11|         False|Don't try to be G...|    New Delhi|        False|                 234|                57|Fri Sep 04 04:55:...|            en|@AmazonHelp @amaz...|             0|    False|             AmazonHelp|     7.93492430666498e+17|             85741735.0|            0|    False|                 nan|\n",
            "|'793535221329113088'|Tue Nov 01 19:28:...|   aakashwangnoo| 71457972.0|                592|                  471|         False|               11|         False|Don't try to be G...|    New Delhi|        False|                 234|                57|Fri Sep 04 04:55:...|            en|@AmazonHelp @amaz...|             0|    False|          aakashwangnoo|     7.93535036213502e+17|             71457972.0|            0|    False|                 nan|\n",
            "|'793537840533471232'|Tue Nov 01 19:38:...|   aakashwangnoo| 71457972.0|                592|                  471|         False|               11|         False|Don't try to be G...|    New Delhi|        False|                 234|                57|Fri Sep 04 04:55:...|            en|@AmazonHelp @amaz...|             0|    False|             AmazonHelp|     7.93492430666498e+17|             85741735.0|            0|    False|@AmazonHelp @amaz...|\n",
            "|'793538125884645376'|Tue Nov 01 19:40:...|   aakashwangnoo| 71457972.0|                592|                  471|         False|               11|         False|Don't try to be G...|    New Delhi|        False|                 234|                57|Fri Sep 04 04:55:...|            en|@AmazonHelp @amaz...|             0|    False|          aakashwangnoo|     7.935378405334712...|             71457972.0|            0|    False|@AmazonHelp @amaz...|\n",
            "+--------------------+--------------------+----------------+-----------+-------------------+---------------------+--------------+-----------------+--------------+--------------------+-------------+-------------+--------------------+------------------+--------------------+--------------+--------------------+--------------+---------+-----------------------+-------------------------+-----------------------+-------------+---------+--------------------+\n",
            "only showing top 20 rows\n",
            "\n"
          ]
        }
      ]
    },
    {
      "cell_type": "code",
      "source": [
        "# Extracting 3 useful columns from amazon spark dataframe\n",
        "amazon_3_column = amazon_spark_df.select('tweet_created_at','user_screen_name','user_id_str')\n",
        "\n",
        "# Converting the structure of date\n",
        "\n",
        "date_str = split(amazon_3_column[\"tweet_created_at\"], ' ')\n",
        "amazon_3_column= amazon_3_column.withColumn('Month', date_str.getItem(1))\n",
        "amazon_3_column = amazon_3_column.withColumn('Date', date_str.getItem(2))\n",
        "amazon_3_column = amazon_3_column.withColumn('Year', date_str.getItem(5))\n",
        "\n",
        "amazon_3_column = amazon_3_column.withColumn(\"tweet_created_at\",sqf.concat(sqf.col(\"Month\"), sqf.lit(\" \"), sqf.col(\"Date\"),sqf.lit(\" \"), sqf.col(\"Year\")))\n",
        "amazon_3_column= amazon_3_column.select('tweet_created_at','user_screen_name','user_id_str')\n",
        "\n",
        "# Leaving duplicate users aside\n",
        "amazon_3_column = amazon_3_column.dropDuplicates()\n",
        "amazon_3_column.show(10)\n",
        "print(amazon_3_column.count())"
      ],
      "metadata": {
        "colab": {
          "base_uri": "https://localhost:8080/"
        },
        "id": "K5LiinsyfHZ2",
        "outputId": "da73937e-9853-45b5-f0ac-3b5a9b872573"
      },
      "execution_count": 33,
      "outputs": [
        {
          "output_type": "stream",
          "name": "stdout",
          "text": [
            "+----------------+----------------+------------+\n",
            "|tweet_created_at|user_screen_name| user_id_str|\n",
            "+----------------+----------------+------------+\n",
            "|     Nov 03 2016|   vivek_coool21| 305560776.0|\n",
            "|     Nov 02 2016|    scorpio98012| 180331674.0|\n",
            "|     Nov 02 2016|     amyirish101|4494066677.0|\n",
            "|     Nov 04 2016|    ServantOnIce| 350308945.0|\n",
            "|     Nov 04 2016|       chhuti_is|  67290915.0|\n",
            "|     Nov 04 2016|  loveydhillon13|2854616179.0|\n",
            "|     Nov 04 2016|      problesgil|  15250896.0|\n",
            "|     Nov 04 2016| JustifiablyPale| 842317388.0|\n",
            "|     Nov 05 2016|  RPG_Gamer_Luke|3528407837.0|\n",
            "|     Nov 10 2016|     TanejaMudit| 507360196.0|\n",
            "+----------------+----------------+------------+\n",
            "only showing top 10 rows\n",
            "\n",
            "93927\n"
          ]
        }
      ]
    },
    {
      "cell_type": "code",
      "source": [
        "# Reporting the number of active users\n",
        "daily_active_users = amazon_3_column.groupBy(amazon_3_column.user_screen_name,amazon_3_column.user_id_str).count()\n",
        "daily_active_users = daily_active_users.filter(\"count >= 5\")\n",
        "daily_active_users = daily_active_users.select('user_id_str','user_screen_name')\n",
        "daily_active_users.show(10)\n",
        "print(\"Daily active users is\", daily_active_users.count())"
      ],
      "metadata": {
        "colab": {
          "base_uri": "https://localhost:8080/"
        },
        "id": "RRErAiOijOgf",
        "outputId": "0009c558-ed4d-4502-cf2b-229b50546c0b"
      },
      "execution_count": 34,
      "outputs": [
        {
          "output_type": "stream",
          "name": "stdout",
          "text": [
            "+--------------------+----------------+\n",
            "|         user_id_str|user_screen_name|\n",
            "+--------------------+----------------+\n",
            "|         125675649.0|          txomon|\n",
            "|          21041619.0|    RobynCobbold|\n",
            "|         187257670.0|   mehulsthakker|\n",
            "|          16543736.0|      manchicken|\n",
            "|        2953709027.0| AmyUnitedStates|\n",
            "|        3252507746.0|         KSean02|\n",
            "|          49989431.0|        NOtoGMOs|\n",
            "|          11702402.0|        trallyus|\n",
            "|        1300002864.0|    matthewD2013|\n",
            "|7.587445573159936...| Savvyy_Investor|\n",
            "+--------------------+----------------+\n",
            "only showing top 10 rows\n",
            "\n",
            "Daily active users is 593\n"
          ]
        }
      ]
    },
    {
      "cell_type": "markdown",
      "source": [
        "step 2"
      ],
      "metadata": {
        "id": "WHTypXxvlKxk"
      }
    },
    {
      "cell_type": "code",
      "source": [
        "import os\n",
        "if not os.path.exists('/content'):\n",
        "    os.makedirs('/content')\n"
      ],
      "metadata": {
        "id": "QP8nFaTTjttZ"
      },
      "execution_count": 36,
      "outputs": []
    },
    {
      "cell_type": "code",
      "source": [
        "daily_active_users.toPandas().to_csv('/content/daily_active_users_result.csv', index=False, header=True)\n"
      ],
      "metadata": {
        "id": "4vhf3aiTk0qP"
      },
      "execution_count": 40,
      "outputs": []
    },
    {
      "cell_type": "code",
      "source": [
        "# Importing \"experiment.txt\" file as dataframe\n",
        "exp_txt = pd.read_csv(\"/content/experiment.txt\", sep=\",\", header=None,error_bad_lines=False)\n",
        "\n",
        "# Convert exp_txt Dataframe to spark dataframe\n",
        "exp_df = spark.createDataFrame(exp_txt)\n",
        "\n",
        "# Renaming the column to user_id_exp\n",
        "exp_df = exp_df.withColumnRenamed(\"0\", \"user_id_exp\")"
      ],
      "metadata": {
        "colab": {
          "base_uri": "https://localhost:8080/"
        },
        "id": "209yIQYbknY9",
        "outputId": "bae2b482-a388-4545-faca-bb005fc2e9ef"
      },
      "execution_count": 43,
      "outputs": [
        {
          "output_type": "stream",
          "name": "stderr",
          "text": [
            "<ipython-input-43-3e9c28c8bf75>:2: FutureWarning: The error_bad_lines argument has been deprecated and will be removed in a future version. Use on_bad_lines in the future.\n",
            "\n",
            "\n",
            "  exp_txt = pd.read_csv(\"/content/experiment.txt\", sep=\",\", header=None,error_bad_lines=False)\n"
          ]
        }
      ]
    },
    {
      "cell_type": "code",
      "source": [
        "#left join should be used to join exp_df with daily_active_user as user_id from experiment.txt should remain the same. \n",
        "experiment_user = exp_df.join(daily_active_users,daily_active_users.user_id_str == exp_df.user_id_exp,\"left\")\n",
        "experiment_user.show(10)"
      ],
      "metadata": {
        "colab": {
          "base_uri": "https://localhost:8080/"
        },
        "id": "JUDb6nZhjUa6",
        "outputId": "f3a2a06f-a0ce-48a3-fd27-437c65299c8e"
      },
      "execution_count": 44,
      "outputs": [
        {
          "output_type": "stream",
          "name": "stdout",
          "text": [
            "+-----------+-----------+----------------+\n",
            "|user_id_exp|user_id_str|user_screen_name|\n",
            "+-----------+-----------+----------------+\n",
            "|   85741735| 85741735.0|      AmazonHelp|\n",
            "|  143515471|       null|            null|\n",
            "|  110354554|110354554.0| praveen_pandey_|\n",
            "|   97424433|       null|            null|\n",
            "|  902137872|902137872.0|     mybharatraj|\n",
            "| 2706101936|       null|            null|\n",
            "|   62364020|       null|            null|\n",
            "|  106799492|       null|            null|\n",
            "| 2908108256|       null|            null|\n",
            "|   71457972|       null|            null|\n",
            "+-----------+-----------+----------------+\n",
            "only showing top 10 rows\n",
            "\n"
          ]
        }
      ]
    },
    {
      "cell_type": "code",
      "source": [
        "# if user_id_str = user_id_exp, then active status should be 'yes', otherwise 'no' \n",
        "active_status = expr(\"\"\"IF(user_id_str = user_id_exp, \"Yes\", \"No\")\"\"\")\n",
        "\n",
        "# selecting 'user_id_str','whether_active'\n",
        "experiment_user = experiment_user.withColumn(\"whether_active\", active_status)\n",
        "experiment_user = experiment_user.select('user_id_exp','whether_active')\n",
        "experiment_user.show(10)\n",
        "print(\"Experiment users\", experiment_user.count(),\".\")"
      ],
      "metadata": {
        "colab": {
          "base_uri": "https://localhost:8080/"
        },
        "id": "yL0MzBIPle8h",
        "outputId": "0c4d71a6-4862-4f05-a90c-799279a5d68f"
      },
      "execution_count": 45,
      "outputs": [
        {
          "output_type": "stream",
          "name": "stdout",
          "text": [
            "+-----------+--------------+\n",
            "|user_id_exp|whether_active|\n",
            "+-----------+--------------+\n",
            "|   85741735|           Yes|\n",
            "|  143515471|            No|\n",
            "|  110354554|           Yes|\n",
            "|   97424433|            No|\n",
            "|  902137872|           Yes|\n",
            "| 2706101936|            No|\n",
            "|   62364020|            No|\n",
            "|  106799492|            No|\n",
            "| 2908108256|            No|\n",
            "|   71457972|            No|\n",
            "+-----------+--------------+\n",
            "only showing top 10 rows\n",
            "\n",
            "Experiment users 5000 .\n"
          ]
        }
      ]
    },
    {
      "cell_type": "code",
      "source": [
        "# percentage of active users\n",
        "experiment_user.groupBy(\"whether_active\").count().show()\n",
        "no = experiment_user.groupBy(\"whether_active\").count().collect()[0][\"count\"]\n",
        "yes = experiment_user.groupBy(\"whether_active\").count().collect()[1][\"count\"]\n",
        "percentage = yes/(no+yes)*100\n",
        "print(\"% of active users\", percentage,\"%\")"
      ],
      "metadata": {
        "colab": {
          "base_uri": "https://localhost:8080/"
        },
        "id": "XExHkhDfl3gM",
        "outputId": "2d788443-99d6-423c-9e81-220fc57094e0"
      },
      "execution_count": 46,
      "outputs": [
        {
          "output_type": "stream",
          "name": "stdout",
          "text": [
            "+--------------+-----+\n",
            "|whether_active|count|\n",
            "+--------------+-----+\n",
            "|            No| 4885|\n",
            "|           Yes|  115|\n",
            "+--------------+-----+\n",
            "\n",
            "% of active users 2.3 %\n"
          ]
        }
      ]
    },
    {
      "cell_type": "markdown",
      "source": [
        "step 3"
      ],
      "metadata": {
        "id": "3PCKggmCmEiN"
      }
    },
    {
      "cell_type": "code",
      "source": [
        "# importing final_experiment.csv as spark dataframe\n",
        "\n",
        "final_experiment_df = pd.read_csv(\"/content/final_experiment (1).csv\")\n",
        "final_experiment_df = spark.createDataFrame(final_experiment_df)\n",
        "final_experiment_df.show()\n",
        "final_experiment_df.printSchema()"
      ],
      "metadata": {
        "colab": {
          "base_uri": "https://localhost:8080/"
        },
        "id": "KJgqpPhOl-i_",
        "outputId": "e8224846-5e0e-4cf7-d6f8-14bf69097967"
      },
      "execution_count": 47,
      "outputs": [
        {
          "output_type": "stream",
          "name": "stdout",
          "text": [
            "+-------------+----+--------------+----------------+\n",
            "|  user_id_str|info|whether_active|user_screen_name|\n",
            "+-------------+----+--------------+----------------+\n",
            "|   6.236402E7|   F|           NaN|             NaN|\n",
            "|2.706101936E9|   M|           NaN|             NaN|\n",
            "|    5654472.0|   F|           NaN|             NaN|\n",
            "| 1.45579921E8|   F|           NaN|             NaN|\n",
            "|2.502172122E9|   M|           NaN|             NaN|\n",
            "| 2.43716471E8|   F|           NaN|             NaN|\n",
            "|2.610379644E9|   M|           NaN|             NaN|\n",
            "| 1.23138418E8|   M|           NaN|             NaN|\n",
            "| 2.57376764E8|   F|           NaN|             NaN|\n",
            "| 2.69145593E8|   M|           NaN|             NaN|\n",
            "| 3.70711133E8|   F|           NaN|             NaN|\n",
            "|1.510968974E9|   F|           NaN|             NaN|\n",
            "|3.526380922E9|   M|           NaN|             NaN|\n",
            "| 1.63413904E8|   F|           NaN|             NaN|\n",
            "|  1.6980347E7|   M|           NaN|             NaN|\n",
            "|1.209614366E9|   M|           NaN|             NaN|\n",
            "| 4.47433286E8|   F|           NaN|             NaN|\n",
            "|1.970607968E9|   M|           NaN|             NaN|\n",
            "|3.285473358E9|   F|           NaN|             NaN|\n",
            "|1.112166661E9|   F|           NaN|             NaN|\n",
            "+-------------+----+--------------+----------------+\n",
            "only showing top 20 rows\n",
            "\n",
            "root\n",
            " |-- user_id_str: double (nullable = true)\n",
            " |-- info: string (nullable = true)\n",
            " |-- whether_active: double (nullable = true)\n",
            " |-- user_screen_name: double (nullable = true)\n",
            "\n"
          ]
        }
      ]
    },
    {
      "cell_type": "code",
      "source": [
        "# counting instances in final_experiment_df\n",
        "final_experiment_df.count()"
      ],
      "metadata": {
        "colab": {
          "base_uri": "https://localhost:8080/"
        },
        "id": "2tTSe9FJog5B",
        "outputId": "847515ed-e26b-41e6-ebcb-7a093a60d22f"
      },
      "execution_count": 48,
      "outputs": [
        {
          "output_type": "execute_result",
          "data": {
            "text/plain": [
              "4500"
            ]
          },
          "metadata": {},
          "execution_count": 48
        }
      ]
    },
    {
      "cell_type": "code",
      "source": [
        "# Assign alias to different dataframe\n",
        "final_exp = final_experiment_df.alias('fe')\n",
        "final_exp.show(5)\n",
        "exp_user = experiment_user.alias('e')\n",
        "exp_user.show(5)\n",
        "dly_act = daily_active_users.alias('a')\n",
        "dly_act.show(5)"
      ],
      "metadata": {
        "colab": {
          "base_uri": "https://localhost:8080/"
        },
        "id": "UK0HMW2IooJo",
        "outputId": "5f4c0715-66e5-435f-ed28-b0ca73ad852a"
      },
      "execution_count": 49,
      "outputs": [
        {
          "output_type": "stream",
          "name": "stdout",
          "text": [
            "+-------------+----+--------------+----------------+\n",
            "|  user_id_str|info|whether_active|user_screen_name|\n",
            "+-------------+----+--------------+----------------+\n",
            "|   6.236402E7|   F|           NaN|             NaN|\n",
            "|2.706101936E9|   M|           NaN|             NaN|\n",
            "|    5654472.0|   F|           NaN|             NaN|\n",
            "| 1.45579921E8|   F|           NaN|             NaN|\n",
            "|2.502172122E9|   M|           NaN|             NaN|\n",
            "+-------------+----+--------------+----------------+\n",
            "only showing top 5 rows\n",
            "\n",
            "+-----------+--------------+\n",
            "|user_id_exp|whether_active|\n",
            "+-----------+--------------+\n",
            "|   85741735|           Yes|\n",
            "|  143515471|            No|\n",
            "|  106799492|            No|\n",
            "| 2908108256|            No|\n",
            "|   71457972|            No|\n",
            "+-----------+--------------+\n",
            "only showing top 5 rows\n",
            "\n",
            "+------------+----------------+\n",
            "| user_id_str|user_screen_name|\n",
            "+------------+----------------+\n",
            "| 125675649.0|          txomon|\n",
            "|  21041619.0|    RobynCobbold|\n",
            "| 187257670.0|   mehulsthakker|\n",
            "|  16543736.0|      manchicken|\n",
            "|2953709027.0| AmyUnitedStates|\n",
            "+------------+----------------+\n",
            "only showing top 5 rows\n",
            "\n"
          ]
        }
      ]
    },
    {
      "cell_type": "code",
      "source": [
        "# using left join to join two dataframes by alias \n",
        "left_join_1 = exp_user.join(dly_act, dly_act.user_id_str == exp_user.user_id_exp,how='left')\n",
        "left_join_1 = left_join_1.drop('user_id_str')\n",
        "\n",
        "# leaving aside('whether_active','user_screen_name') from final_experiment\n",
        "final_exp = final_exp.drop('whether_active','user_screen_name')\n",
        "\n",
        "# Joining left_join_1 with the final_experiment alias using left join\n",
        "left_join_2 = final_exp.join(left_join_1, final_exp.user_id_str == left_join_1.user_id_exp,how='left')\n",
        "left_join_2 = left_join_2.drop('user_id_exp')\n",
        "left_join_2.show(10)"
      ],
      "metadata": {
        "colab": {
          "base_uri": "https://localhost:8080/"
        },
        "id": "FICMQPG3ouWK",
        "outputId": "1e07cf4b-efee-4df6-f647-391bf4795153"
      },
      "execution_count": 50,
      "outputs": [
        {
          "output_type": "stream",
          "name": "stdout",
          "text": [
            "+------------+----+--------------+----------------+\n",
            "| user_id_str|info|whether_active|user_screen_name|\n",
            "+------------+----+--------------+----------------+\n",
            "|   5654472.0|   F|            No|            null|\n",
            "| 1.7126306E7|   F|            No|            null|\n",
            "| 1.9273402E7|   M|            No|            null|\n",
            "| 4.1489388E7|   F|            No|            null|\n",
            "|  6.236402E7|   F|            No|            null|\n",
            "| 9.8177499E7|   F|            No|            null|\n",
            "|1.23138418E8|   M|            No|            null|\n",
            "|1.45579921E8|   F|            No|            null|\n",
            "|1.46854424E8|   F|            No|            null|\n",
            "|2.43716471E8|   F|            No|            null|\n",
            "+------------+----+--------------+----------------+\n",
            "only showing top 10 rows\n",
            "\n"
          ]
        }
      ]
    },
    {
      "cell_type": "code",
      "source": [
        "# Insert \"No record\" in place of 'null'\n",
        "final_experiment = left_join_2.na.fill(\"No record\")\n",
        "final_experiment.show(10)"
      ],
      "metadata": {
        "colab": {
          "base_uri": "https://localhost:8080/"
        },
        "id": "HAKm1VTao9-Z",
        "outputId": "4c21d635-2108-4955-f070-763ea051ae9c"
      },
      "execution_count": 51,
      "outputs": [
        {
          "output_type": "stream",
          "name": "stdout",
          "text": [
            "+------------+----+--------------+----------------+\n",
            "| user_id_str|info|whether_active|user_screen_name|\n",
            "+------------+----+--------------+----------------+\n",
            "|   5654472.0|   F|            No|       No record|\n",
            "| 1.7126306E7|   F|            No|       No record|\n",
            "| 1.9273402E7|   M|            No|       No record|\n",
            "| 4.1489388E7|   F|            No|       No record|\n",
            "|  6.236402E7|   F|            No|       No record|\n",
            "| 9.8177499E7|   F|            No|       No record|\n",
            "|1.23138418E8|   M|            No|       No record|\n",
            "|1.45579921E8|   F|            No|       No record|\n",
            "|1.46854424E8|   F|            No|       No record|\n",
            "|2.43716471E8|   F|            No|       No record|\n",
            "+------------+----+--------------+----------------+\n",
            "only showing top 10 rows\n",
            "\n"
          ]
        }
      ]
    },
    {
      "cell_type": "code",
      "source": [
        "print(final_experiment.count())"
      ],
      "metadata": {
        "colab": {
          "base_uri": "https://localhost:8080/"
        },
        "id": "zzzLHPC_pFTW",
        "outputId": "b78464c4-8c80-4526-8e66-3694e44265df"
      },
      "execution_count": 52,
      "outputs": [
        {
          "output_type": "stream",
          "name": "stdout",
          "text": [
            "4500\n"
          ]
        }
      ]
    },
    {
      "cell_type": "code",
      "source": [
        "# Save the result as csv file\n",
        "final_experiment.toPandas().to_csv(r'/content/final_experiment (1).csv',index = False, header=True)"
      ],
      "metadata": {
        "id": "ZHKtTW9spFQ4"
      },
      "execution_count": 53,
      "outputs": []
    },
    {
      "cell_type": "markdown",
      "source": [
        "Rough Work\n",
        "\n",
        "\n",
        "\n"
      ],
      "metadata": {
        "id": "OlN1VNxO7wPw"
      }
    },
    {
      "cell_type": "code",
      "source": [
        "import pandas as pd\n",
        "\n",
        "# Load experiment.txt file into a pandas dataframe\n",
        "experiment_df = pd.read_csv('experiment.txt')\n",
        "\n",
        "experiment.head(100\n",
        "                )"
      ],
      "metadata": {
        "colab": {
          "base_uri": "https://localhost:8080/"
        },
        "id": "2NBOp7MwAG2k",
        "outputId": "c58a3e31-03c4-4333-b950-d9d42f6cb47d"
      },
      "execution_count": 19,
      "outputs": [
        {
          "output_type": "execute_result",
          "data": {
            "text/plain": [
              "[Row(143515471='85741735'),\n",
              " Row(143515471='71457972'),\n",
              " Row(143515471='2908108256'),\n",
              " Row(143515471='106799492'),\n",
              " Row(143515471='59156981'),\n",
              " Row(143515471='902137872'),\n",
              " Row(143515471='110354554'),\n",
              " Row(143515471='97424433'),\n",
              " Row(143515471='62364020'),\n",
              " Row(143515471='2706101936'),\n",
              " Row(143515471='5654472'),\n",
              " Row(143515471='145579921'),\n",
              " Row(143515471='2502172122'),\n",
              " Row(143515471='243716471'),\n",
              " Row(143515471='2610379644'),\n",
              " Row(143515471='123138418'),\n",
              " Row(143515471='257376764'),\n",
              " Row(143515471='269145593'),\n",
              " Row(143515471='370711133'),\n",
              " Row(143515471='1510968974'),\n",
              " Row(143515471='3526380922'),\n",
              " Row(143515471='163413904'),\n",
              " Row(143515471='16980347'),\n",
              " Row(143515471='1209614366'),\n",
              " Row(143515471='447433286'),\n",
              " Row(143515471='1970607968'),\n",
              " Row(143515471='3285473358'),\n",
              " Row(143515471='1112166661'),\n",
              " Row(143515471='422175328'),\n",
              " Row(143515471='60004557'),\n",
              " Row(143515471='2789430008'),\n",
              " Row(143515471='253242925'),\n",
              " Row(143515471='141214344'),\n",
              " Row(143515471='24787056'),\n",
              " Row(143515471='22830586'),\n",
              " Row(143515471='138605435'),\n",
              " Row(143515471='2199664468'),\n",
              " Row(143515471='71098947'),\n",
              " Row(143515471='174156582'),\n",
              " Row(143515471='315105182'),\n",
              " Row(143515471='356667027'),\n",
              " Row(143515471='152122529'),\n",
              " Row(143515471='300526090'),\n",
              " Row(143515471='281666367'),\n",
              " Row(143515471='314200747'),\n",
              " Row(143515471='284371894'),\n",
              " Row(143515471='193060294'),\n",
              " Row(143515471='3098204839'),\n",
              " Row(143515471='89107116'),\n",
              " Row(143515471='20815886'),\n",
              " Row(143515471='3157739056'),\n",
              " Row(143515471='768680968114667520'),\n",
              " Row(143515471='460620990'),\n",
              " Row(143515471='1379501556'),\n",
              " Row(143515471='2725725450'),\n",
              " Row(143515471='55165270'),\n",
              " Row(143515471='252708604'),\n",
              " Row(143515471='94245683'),\n",
              " Row(143515471='33686448'),\n",
              " Row(143515471='238576433'),\n",
              " Row(143515471='518389533'),\n",
              " Row(143515471='21217122'),\n",
              " Row(143515471='791732926387884032'),\n",
              " Row(143515471='132216274'),\n",
              " Row(143515471='175322072'),\n",
              " Row(143515471='29949567'),\n",
              " Row(143515471='17130680'),\n",
              " Row(143515471='1194213805'),\n",
              " Row(143515471='356677104'),\n",
              " Row(143515471='173697045'),\n",
              " Row(143515471='13785352'),\n",
              " Row(143515471='1034809063'),\n",
              " Row(143515471='182037498'),\n",
              " Row(143515471='2326748376'),\n",
              " Row(143515471='2351435020'),\n",
              " Row(143515471='4111464136'),\n",
              " Row(143515471='2229240523'),\n",
              " Row(143515471='2402058558'),\n",
              " Row(143515471='77321410'),\n",
              " Row(143515471='3375721527'),\n",
              " Row(143515471='860495726'),\n",
              " Row(143515471='3923649083'),\n",
              " Row(143515471='31467003'),\n",
              " Row(143515471='4146493673'),\n",
              " Row(143515471='43189449'),\n",
              " Row(143515471='14348618'),\n",
              " Row(143515471='191873398'),\n",
              " Row(143515471='14169855'),\n",
              " Row(143515471='103596643'),\n",
              " Row(143515471='87690895'),\n",
              " Row(143515471='382901851'),\n",
              " Row(143515471='506067767'),\n",
              " Row(143515471='323149948'),\n",
              " Row(143515471='2348808775'),\n",
              " Row(143515471='32071786'),\n",
              " Row(143515471='89633357'),\n",
              " Row(143515471='375712053'),\n",
              " Row(143515471='2816704757'),\n",
              " Row(143515471='720331094'),\n",
              " Row(143515471='349381846')]"
            ]
          },
          "metadata": {},
          "execution_count": 19
        }
      ]
    },
    {
      "cell_type": "code",
      "source": [],
      "metadata": {
        "id": "Mkmro58PCAQT"
      },
      "execution_count": null,
      "outputs": []
    }
  ]
}